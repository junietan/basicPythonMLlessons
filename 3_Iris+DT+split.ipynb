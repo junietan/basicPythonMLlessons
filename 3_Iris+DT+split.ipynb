{
  "cells": [
    {
      "cell_type": "markdown",
      "metadata": {
        "id": "view-in-github",
        "colab_type": "text"
      },
      "source": [
        "<a href=\"https://colab.research.google.com/github/junietan/basicPythonMLlessons/blob/main/3_Iris%2BDT%2Bsplit.ipynb\" target=\"_parent\"><img src=\"https://colab.research.google.com/assets/colab-badge.svg\" alt=\"Open In Colab\"/></a>"
      ]
    },
    {
      "cell_type": "code",
      "execution_count": null,
      "metadata": {
        "id": "xbWNA60zZhtY"
      },
      "outputs": [],
      "source": [
        "# import the relevant packages\n",
        "import numpy as np\n",
        "import matplotlib.pyplot as plt\n",
        "\n",
        "from sklearn.datasets import load_iris\n",
        "from sklearn.tree import DecisionTreeClassifier, plot_tree\n"
      ]
    },
    {
      "cell_type": "markdown",
      "metadata": {
        "id": "UbaTs6K9ZhtZ"
      },
      "source": [
        "### The dataset"
      ]
    },
    {
      "cell_type": "code",
      "execution_count": null,
      "metadata": {
        "id": "tXQ0jPBUZhtZ"
      },
      "outputs": [],
      "source": [
        "# We can load the iris dataset straight from sklearn\n",
        "iris = load_iris()\n"
      ]
    },
    {
      "cell_type": "code",
      "source": [
        "# Understanding the iris dataset\n",
        "print(\"Feature names:\", iris.feature_names)\n",
        "print(\"Target names:\", iris.target_names)\n",
        "print(\"Shape of data:\", iris.data.shape)\n",
        "print(\"Description:\\n\", iris.DESCR)"
      ],
      "metadata": {
        "id": "F2e36JZLblPP"
      },
      "execution_count": null,
      "outputs": []
    },
    {
      "cell_type": "code",
      "execution_count": null,
      "metadata": {
        "id": "pTw3lP_7ZhtZ"
      },
      "outputs": [],
      "source": [
        "# load data and target from iris dataset\n",
        "X, y = iris.data, iris.target\n",
        "\n",
        "# Check what the input looks like\n",
        "X"
      ]
    },
    {
      "cell_type": "code",
      "execution_count": null,
      "metadata": {
        "id": "b7B0d1AUZhta"
      },
      "outputs": [],
      "source": [
        "# Check what the target looks like\n",
        "y"
      ]
    },
    {
      "cell_type": "code",
      "execution_count": null,
      "metadata": {
        "id": "jm7T51sJZhta"
      },
      "outputs": [],
      "source": [
        "# We see that there are 150 samples, each with 4 feauters\n",
        "np.shape(X)"
      ]
    },
    {
      "cell_type": "markdown",
      "source": [
        "### Splitting the data\n",
        "When a model is trained on the entire dataset, it can memorize the data rather than learning the underlying patterns. This phenomenon is called **overfitting**.\n",
        "\n",
        "The model will perform exceptionally well on the data it has seen but will likely perform poorly on new, unseen data. Splitting the data allows you to train the model on one portion (the training set) and then test its ability to generalize to a different, unseen portion (the testing set)"
      ],
      "metadata": {
        "id": "EaqCkdZXe_Zc"
      }
    },
    {
      "cell_type": "code",
      "source": [
        "from sklearn.model_selection import train_test_split\n",
        "\n",
        "# we need to split the dataset into a train and test samples (e.g., 80% train, 20% test)\n",
        "train_input, test_input, train_target, test_target = train_test_split(X, y, test_size=0.2, random_state=66) # fix for reproducibility\n",
        "\n",
        "print(f\"Training set size: {train_input.shape[0]} samples\")\n",
        "print(f\"Testing set size: {test_input.shape[0]} samples\")"
      ],
      "metadata": {
        "id": "Y70jRoUCfNA6"
      },
      "execution_count": null,
      "outputs": []
    },
    {
      "cell_type": "markdown",
      "metadata": {
        "id": "woXAQYzcZhta"
      },
      "source": [
        "### Creating the decision tree"
      ]
    },
    {
      "cell_type": "code",
      "execution_count": null,
      "metadata": {
        "id": "C6IXMvrZZhta"
      },
      "outputs": [],
      "source": [
        "# First, we need to define the decision tree and its parameters, if any\n",
        "# Then, we need to train/create the tree based on the data\n",
        "# Both are easily achieved through sklearn, with 2 simple commands"
      ]
    },
    {
      "cell_type": "code",
      "execution_count": null,
      "metadata": {
        "id": "tUU1q6D0Zhta"
      },
      "outputs": [],
      "source": [
        "# Defining the tree classifier\n",
        "clf = DecisionTreeClassifier()"
      ]
    },
    {
      "cell_type": "code",
      "execution_count": null,
      "metadata": {
        "id": "taPpIAeMZhta"
      },
      "outputs": [],
      "source": [
        "# Training/creating the decision tree\n",
        "clf = clf.fit(train_input, train_target)"
      ]
    },
    {
      "cell_type": "code",
      "execution_count": null,
      "metadata": {
        "id": "8XjHls-wZhtb"
      },
      "outputs": [],
      "source": [
        "# At this point, we have created a fully working decision tree for the Iris dataset"
      ]
    },
    {
      "cell_type": "code",
      "execution_count": null,
      "metadata": {
        "id": "vU28dAzgZhtb"
      },
      "outputs": [],
      "source": [
        "# We can now give this tree an input, and it will predict the class of the flower\n",
        "test_pred = clf.predict(test_input)\n",
        "test_pred"
      ]
    },
    {
      "cell_type": "code",
      "source": [
        "test_target"
      ],
      "metadata": {
        "id": "8nhXAtC1gkTK"
      },
      "execution_count": null,
      "outputs": []
    },
    {
      "cell_type": "code",
      "execution_count": null,
      "metadata": {
        "id": "qzu74CxQZhtb"
      },
      "outputs": [],
      "source": [
        "from sklearn.metrics import accuracy_score\n",
        "\n",
        "# Calculate accuracy\n",
        "accuracy = accuracy_score(test_target,test_pred)\n",
        "\n",
        "print(f\"The accuracy of the model is: {accuracy:.2f}\")"
      ]
    },
    {
      "cell_type": "markdown",
      "metadata": {
        "id": "3o-JW9TBZhtb"
      },
      "source": [
        "### Visualizing the tree"
      ]
    },
    {
      "cell_type": "code",
      "execution_count": null,
      "metadata": {
        "id": "X9OVt9KCZhtb"
      },
      "outputs": [],
      "source": [
        "# With sklearn, we also have capabilities to plot the tree"
      ]
    },
    {
      "cell_type": "code",
      "execution_count": null,
      "metadata": {
        "id": "WcRv3ntLZhtb"
      },
      "outputs": [],
      "source": [
        "# The default plot_tree function returns a list with text information about the tree and also plots a small image of it\n",
        "plot_tree(clf)"
      ]
    },
    {
      "cell_type": "code",
      "source": [
        "plt.figure(figsize=(15,12))\n",
        "plot_tree(clf, filled=True,\n",
        "          feature_names=iris.feature_names,\n",
        "          class_names=iris.target_names)\n",
        "\n",
        "plt.show()"
      ],
      "metadata": {
        "id": "T2Avo9Z7hrKn"
      },
      "execution_count": null,
      "outputs": []
    },
    {
      "cell_type": "code",
      "source": [
        "plt.figure(figsize=(15,12))\n",
        "plot_tree(clf, filled=True,\n",
        "          feature_names=iris.feature_names,\n",
        "          class_names=iris.target_names)\n",
        "\n",
        "plt.show()"
      ],
      "metadata": {
        "id": "x4wX0fuPhZYG"
      },
      "execution_count": null,
      "outputs": []
    },
    {
      "cell_type": "code",
      "execution_count": null,
      "metadata": {
        "id": "Zk2qcBadZhtb"
      },
      "outputs": [],
      "source": [
        "# To better visualize it, we can use matplotlib, and control the size of the figure\n",
        "plt.figure(figsize=(15,12))\n",
        "plot_tree(clf, filled=True,\n",
        "          feature_names=iris.feature_names,\n",
        "          class_names=iris.target_names)\n",
        "\n",
        "plt.show()"
      ]
    },
    {
      "cell_type": "code",
      "execution_count": null,
      "metadata": {
        "id": "MvgI_NsiZhtc"
      },
      "outputs": [],
      "source": [
        "# As can be seen from the image above, though, the features and classes don't have names\n",
        "# It is not informative, as we don't know what feature X[2] corresponds to\n",
        "# So, we can add a list of feature and class names to the function"
      ]
    },
    {
      "cell_type": "code",
      "source": [],
      "metadata": {
        "id": "Q7jrRGxNbLAt"
      },
      "execution_count": null,
      "outputs": []
    },
    {
      "cell_type": "code",
      "execution_count": null,
      "metadata": {
        "id": "p_VM4cLOZhtc"
      },
      "outputs": [],
      "source": [
        "# Adding the feature and class names, as well\n",
        "plt.figure(figsize=(15,12))\n",
        "plot_tree(clf, filled=True,\n",
        "          feature_names=iris.feature_names,\n",
        "          class_names=iris.target_names)\n",
        "plt.show()"
      ]
    },
    {
      "cell_type": "code",
      "execution_count": null,
      "metadata": {
        "id": "TRIUpkbTZhtc"
      },
      "outputs": [],
      "source": []
    },
    {
      "cell_type": "code",
      "execution_count": null,
      "metadata": {
        "id": "wUD5RJwSZhtc"
      },
      "outputs": [],
      "source": []
    }
  ],
  "metadata": {
    "kernelspec": {
      "display_name": "Python 3 (ipykernel)",
      "language": "python",
      "name": "python3"
    },
    "language_info": {
      "codemirror_mode": {
        "name": "ipython",
        "version": 3
      },
      "file_extension": ".py",
      "mimetype": "text/x-python",
      "name": "python",
      "nbconvert_exporter": "python",
      "pygments_lexer": "ipython3",
      "version": "3.9.7"
    },
    "colab": {
      "provenance": [],
      "toc_visible": true,
      "include_colab_link": true
    }
  },
  "nbformat": 4,
  "nbformat_minor": 0
}